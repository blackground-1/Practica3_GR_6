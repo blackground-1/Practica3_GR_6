{
 "cells": [
  {
   "cell_type": "code",
   "execution_count": null,
   "metadata": {
    "vscode": {
     "languageId": "plaintext"
    }
   },
   "outputs": [],
   "source": [
    "# PROCESAMIENTO DE DATOS \n",
    "\n",
    "* * * \n",
    "\n",
    "### Iconos utilizados en este cuaderno\n",
    "🔔 **Pregunta**: Una pregunta rápida para ayudarte a entender lo que está pasando.<br>\n",
    "🥊 **Desafío**: Extraer la Data del sitio Web (web-scraping) para su análisis!<br>\n",
    "⚠️ **Advertencia**: Aviso sobre cosas complicadas o errores comunes.<br>\n",
    "💡 **Consejo**: Cómo hacer algo de manera más eficiente o efectiva.<br>\n",
    "🎬 **Demostración**: Mostrar algo más avanzado, Creamos la Base de Datos y Graficamos.<br>"
   ]
  },
  {
   "cell_type": "markdown",
   "metadata": {},
   "source": [
    "<a id='when'></a>\n",
    "\n",
    "# Es seguro extraer la Data de un sitio WEB\n",
    "\n",
    "Cuando queremos acceder a datos de la web, primero debemos asegurarnos que el sitio web que nos interesa ofresca una API web. Plataformas como Twitter, Reddit, el New York Times y ciertas páginas gubernamentales ofrecen APIs. \n",
    "\n",
    "Sin embargo, a menudo hay casos en los que no existe una API web. En estos casos, podemos recurrir al web scraping, donde extraemos el HTML de una página web y obtenemos directamente la información que queremos. \n",
    "\n",
    "Nuestra data es extraída de el repositorio [senadores estatales de Illinois](http://www.ilga.gov/senate) ya que este sitio ofrece un sinúmeo de repositorios con los que podemos trabajar es asi que la investigación nos llevó a detectar que existen repositorios desde la **93ava hasta la 104ava asamblea**, sitio del cual escogimos la [lista de senadores que laboran desde casa](https://www.ilga.gov/house/default.asp?GA=104) **104ava** que es diferente a la ya estudiada pero su estructura es similar.\n"
   ]
  },
  {
   "cell_type": "markdown",
   "metadata": {},
   "source": [
    "\n",
    "\n",
    "## El desafío comienza con la adecuación del Escenario\n",
    "\n",
    "Usaremos dos paquetes principales: **Requests, Beautiful Soup, Psycopg2, Matplotlib.pyplot, Seaborn, Numpy y Pandas**\n"
   ]
  },
  {
   "cell_type": "code",
   "execution_count": null,
   "metadata": {},
   "outputs": [
    {
     "name": "stdout",
     "output_type": "stream",
     "text": [
      "Requirement already satisfied: requests in /opt/conda/lib/python3.12/site-packages (2.32.3)\n",
      "Requirement already satisfied: charset-normalizer<4,>=2 in /opt/conda/lib/python3.12/site-packages (from requests) (3.3.2)\n",
      "Requirement already satisfied: idna<4,>=2.5 in /opt/conda/lib/python3.12/site-packages (from requests) (3.7)\n",
      "Requirement already satisfied: urllib3<3,>=1.21.1 in /opt/conda/lib/python3.12/site-packages (from requests) (2.2.3)\n",
      "Requirement already satisfied: certifi>=2017.4.17 in /opt/conda/lib/python3.12/site-packages (from requests) (2025.1.31)\n",
      "Note: you may need to restart the kernel to use updated packages.\n"
     ]
    }
   ],
   "source": [
    "%pip install requests"
   ]
  },
  {
   "cell_type": "code",
   "execution_count": null,
   "metadata": {},
   "outputs": [
    {
     "name": "stdout",
     "output_type": "stream",
     "text": [
      "Requirement already satisfied: beautifulsoup4 in /opt/conda/lib/python3.12/site-packages (4.12.3)\n",
      "Requirement already satisfied: soupsieve>1.2 in /opt/conda/lib/python3.12/site-packages (from beautifulsoup4) (2.5)\n",
      "Note: you may need to restart the kernel to use updated packages.\n"
     ]
    }
   ],
   "source": [
    "%pip install beautifulsoup4"
   ]
  },
  {
   "cell_type": "markdown",
   "metadata": {},
   "source": [
    "También instalaremos el paquete `lxml` que ayuda a soportar parte del análisis que realiza Beautiful Soup:"
   ]
  },
  {
   "cell_type": "code",
   "execution_count": null,
   "metadata": {},
   "outputs": [
    {
     "name": "stdout",
     "output_type": "stream",
     "text": [
      "Requirement already satisfied: lxml in /opt/conda/lib/python3.12/site-packages (5.2.1)\n",
      "Note: you may need to restart the kernel to use updated packages.\n"
     ]
    }
   ],
   "source": [
    "%pip install lxml"
   ]
  },
  {
   "cell_type": "markdown",
   "metadata": {},
   "source": [
    "Importamos las Librerías que vamos a necesitar"
   ]
  },
  {
   "cell_type": "code",
   "execution_count": null,
   "metadata": {},
   "outputs": [],
   "source": [
    "# Import required libraries\n",
    "from bs4 import BeautifulSoup\n",
    "from datetime import datetime\n",
    "import requests\n",
    "import time"
   ]
  },
  {
   "cell_type": "markdown",
   "metadata": {},
   "source": [
    "<a id='extract'></a>\n",
    "\n",
    "# Extracción y Análisis de HTML \n",
    "\n",
    "Para realizar correctamente la extracción y el análisis de HTML, seguiremos los siguientes 4 pasos:\n",
    "1. Realizar una solicitud GET\n",
    "2. Analizar la página con Beautiful Soup\n",
    "3. Buscar elementos HTML\n",
    "4. Obtener atributos y texto de estos elementos"
   ]
  },
  {
   "cell_type": "markdown",
   "metadata": {},
   "source": [
    "## Paso 1: Solicitud GET\n",
    "\n",
    "Podemos usar la biblioteca Requests para:\n",
    "\n",
    "1. Hacer una solicitud GET a la página, y  \n",
    "2. Leer el código HTML de la página web.\n",
    "\n",
    "El proceso de realizar una solicitud y obtener un resultado se asemeja al flujo de trabajo de una API web. Sin embargo, en este caso, estamos haciendo una solicitud directamente al sitio web, y tendremos que analizar el HTML por nuestra cuenta. Esto contrasta con recibir datos organizados en un formato más sencillo como `JSON` o `XML`.\n"
   ]
  },
  {
   "cell_type": "code",
   "execution_count": null,
   "metadata": {},
   "outputs": [],
   "source": [
    "# Make a GET request\n",
    "req = requests.get('https://www.ilga.gov/house/default.asp')\n",
    "# Read the content of the server’s response\n",
    "src = req.text\n",
    "# Parse the response into an HTML tree\n",
    "soup = BeautifulSoup(src, 'lxml')"
   ]
  },
  {
   "cell_type": "markdown",
   "metadata": {},
   "source": [
    "## Paso 2: Analizar la Página con Beautiful Soup\n",
    "\n",
    "Ahora utilizamos la función `BeautifulSoup` para analizar la respuesta y convertirla en un árbol HTML. Esto devuelve un objeto (llamado **soup object**) que contiene todo el HTML del documento original."
   ]
  },
  {
   "cell_type": "code",
   "execution_count": null,
   "metadata": {},
   "outputs": [
    {
     "name": "stdout",
     "output_type": "stream",
     "text": [
      "<html lang=\"en\">\n",
      " <!-- Trigger/Open The Modal -->\n",
      " <body>\n",
      "  <div style=\"position: fixed; z-index: 999; top: 5; left: 600; background-color: navy; display: block\">\n",
      "   <button id=\"myBtn\" style=\"color: white; background-color: navy; display: block\">\n",
      "    Translate Website\n",
      "   </button>\n",
      "  </div>\n",
      "  <!-- The Modal -->\n",
      "  <div class=\"modal\" id=\"myModal\" style=\"display: none\">\n",
      "   <!-- Modal content -->\n",
      "   <div class=\"modal-content\">\n",
      "    <div class=\"modal-header\">\n",
      "     <h3>\n",
      "      <span class=\"close\">\n",
      "       ×\n",
      "      </span>\n",
      "     </h3>\n",
      "    </div>\n",
      "    <p>\n",
      "     The Illinois General Assembly offers the Google Translate service for visitor convenience. In no way should it be considered accurate as to the translation of any content herein.\n",
      "    </p>\n",
      "    <p>\n",
      "     Visitors of the Illinois General Assembly website are encouraged to use other translation services available on the internet.\n",
      "    </p>\n",
      "    <p>\n",
      "     The English language version is always the official and authoritative version of this website.\n",
      "   \n"
     ]
    }
   ],
   "source": [
    "# Parse the response into an HTML tree\n",
    "soup = BeautifulSoup(src, 'lxml')\n",
    "# Take a look\n",
    "print(soup.prettify()[:1000])"
   ]
  },
  {
   "cell_type": "markdown",
   "metadata": {},
   "source": [
    "La salida se ve bastante similar a la anterior, pero ahora está organizada en un objeto `soup`, lo que nos permite recorrer la página con mayor facilidad.\n"
   ]
  },
  {
   "cell_type": "markdown",
   "metadata": {},
   "source": [
    "## Paso 3: Buscar Elementos HTML\n",
    "\n",
    "Beautiful Soup ofrece varias funciones para encontrar componentes útiles en una página. Permite buscar elementos utilizando:\n",
    "\n",
    "1. Etiquetas HTML  \n",
    "2. Atributos HTML  \n",
    "3. Selectores CSS  \n",
    "\n",
    "Primero, busquemos **etiquetas HTML**.  \n",
    "\n",
    "La función `find_all` busca en el árbol de `soup` todos los elementos con una etiqueta HTML específica y devuelve todos esos elementos.\n"
   ]
  },
  {
   "cell_type": "code",
   "execution_count": null,
   "metadata": {},
   "outputs": [
    {
     "name": "stdout",
     "output_type": "stream",
     "text": [
      "[<a class=\"goog-logo-link\" href=\"https://translate.google.com\" target=\"_blank\"><img alt=\"Google Translate\" height=\"14\" src=\"https://www.gstatic.com/images/branding/googlelogo/1x/googlelogo_color_42x16dp.png\" style=\"padding-right: 3px;\" width=\"37\"/>Translate</a>, <a href=\"/default.asp\"><img alt=\"Illinois General Assembly\" border=\"0\" height=\"49\" src=\"/images/logo_sm.gif\" width=\"462\"/></a>, <a class=\"mainmenu\" href=\"/\">Home</a>, <a class=\"mainmenu\" href=\"/legislation/\" onblur=\"HM_f_PopDown('elMenu1')\" onfocus=\"HM_f_PopUp('elMenu1',event)\" onmouseout=\"HM_f_PopDown('elMenu1')\" onmouseover=\"HM_f_PopUp('elMenu1',event)\">Legislation &amp; Laws</a>, <a class=\"mainmenu\" href=\"/senate/\" onblur=\"HM_f_PopDown('elMenu3')\" onfocus=\"HM_f_PopUp('elMenu3',event)\" onmouseout=\"HM_f_PopDown('elMenu3')\" onmouseover=\"HM_f_PopUp('elMenu3',event)\">Senate</a>, <a class=\"mainmenu\" href=\"/house/\" onblur=\"HM_f_PopDown('elMenu2')\" onfocus=\"HM_f_PopUp('elMenu2',event)\" onmouseout=\"HM_f_PopDown('elMenu2')\" onmouseover=\"HM_f_PopUp('elMenu2',event)\">House</a>, <a class=\"mainmenu\" href=\"/mylegislation/\" onblur=\"HM_f_PopDown('elMenu4')\" onfocus=\"HM_f_PopUp('elMenu4',event)\" onmouseout=\"HM_f_PopDown('elMenu4')\" onmouseover=\"HM_f_PopUp('elMenu4',event)\">My Legislation</a>, <a class=\"mainmenu\" href=\"/sitemap.asp\">Site Map</a>, <a class=\"sidemenu\" href=\"/house/default.asp\">  Members  </a>, <a class=\"sidemenu\" href=\"/house/committees/default.asp\">  Committees  </a>]\n"
     ]
    }
   ],
   "source": [
    "# Find all elements with a certain tag\n",
    "a_tags = soup.find_all(\"a\")\n",
    "print(a_tags[:10])"
   ]
  },
  {
   "cell_type": "markdown",
   "metadata": {},
   "source": [
    "Dado que `find_all()` es el método más popular en la API de búsqueda de Beautiful Soup, existe un atajo para usarlo.\n",
    "\n",
    "Si tratas al objeto `BeautifulSoup` como si fuera una función, es equivalente a llamar a `find_all()` en ese objeto."
   ]
  },
  {
   "cell_type": "code",
   "execution_count": null,
   "metadata": {},
   "outputs": [
    {
     "name": "stdout",
     "output_type": "stream",
     "text": [
      "<a class=\"goog-logo-link\" href=\"https://translate.google.com\" target=\"_blank\"><img alt=\"Google Translate\" height=\"14\" src=\"https://www.gstatic.com/images/branding/googlelogo/1x/googlelogo_color_42x16dp.png\" style=\"padding-right: 3px;\" width=\"37\"/>Translate</a>\n",
      "<a class=\"goog-logo-link\" href=\"https://translate.google.com\" target=\"_blank\"><img alt=\"Google Translate\" height=\"14\" src=\"https://www.gstatic.com/images/branding/googlelogo/1x/googlelogo_color_42x16dp.png\" style=\"padding-right: 3px;\" width=\"37\"/>Translate</a>\n"
     ]
    }
   ],
   "source": [
    "a_tags = soup.find_all(\"a\")\n",
    "a_tags_alt = soup(\"a\")\n",
    "print(a_tags[0])\n",
    "print(a_tags_alt[0])"
   ]
  },
  {
   "cell_type": "markdown",
   "metadata": {},
   "source": [
    "¿Cuántos enlaces obtuvimos?"
   ]
  },
  {
   "cell_type": "code",
   "execution_count": null,
   "metadata": {},
   "outputs": [
    {
     "name": "stdout",
     "output_type": "stream",
     "text": [
      "382\n"
     ]
    }
   ],
   "source": [
    "print(len(a_tags))"
   ]
  },
  {
   "cell_type": "markdown",
   "metadata": {},
   "source": [
    "¡Eso es mucho! Muchos elementos en una página tendrán la misma etiqueta HTML, estamos encontrando todas las etiquetas `a` y luego filtrando aquellas con `class_=\"sidemenu\"`:"
   ]
  },
  {
   "cell_type": "code",
   "execution_count": null,
   "metadata": {},
   "outputs": [
    {
     "data": {
      "text/plain": [
       "[<a class=\"sidemenu\" href=\"/house/default.asp\">  Members  </a>,\n",
       " <a class=\"sidemenu\" href=\"/house/committees/default.asp\">  Committees  </a>,\n",
       " <a class=\"sidemenu\" href=\"/house/schedules/default.asp\">  Schedules  </a>,\n",
       " <a class=\"sidemenu\" href=\"/house/journals/default.asp\">  Journals  </a>,\n",
       " <a class=\"sidemenu\" href=\"/house/transcripts/default.asp\">  Transcripts  </a>]"
      ]
     },
     "metadata": {},
     "output_type": "display_data"
    }
   ],
   "source": [
    "# Get only the 'a' tags in 'sidemenu' class\n",
    "side_menus = soup(\"a\", class_=\"sidemenu\")\n",
    "side_menus[:5]"
   ]
  },
  {
   "cell_type": "markdown",
   "metadata": {},
   "source": [
    "Podemos usar `\"a.sidemenu\"` como selector CSS, lo que devuelve todas las etiquetas `a` con la clase `sidemenu`.\n",
    "\n"
   ]
  },
  {
   "cell_type": "code",
   "execution_count": null,
   "metadata": {},
   "outputs": [
    {
     "data": {
      "text/plain": [
       "[<a class=\"sidemenu\" href=\"/house/default.asp\">  Members  </a>,\n",
       " <a class=\"sidemenu\" href=\"/house/committees/default.asp\">  Committees  </a>,\n",
       " <a class=\"sidemenu\" href=\"/house/schedules/default.asp\">  Schedules  </a>,\n",
       " <a class=\"sidemenu\" href=\"/house/journals/default.asp\">  Journals  </a>,\n",
       " <a class=\"sidemenu\" href=\"/house/transcripts/default.asp\">  Transcripts  </a>]"
      ]
     },
     "metadata": {},
     "output_type": "display_data"
    }
   ],
   "source": [
    "# Get elements with \"a.sidemenu\" CSS Selector.\n",
    "selected = soup.select(\"a.sidemenu\")\n",
    "selected[:5]"
   ]
  },
  {
   "cell_type": "markdown",
   "metadata": {},
   "source": [
    "## 🥊 Desafío: Encontrar Todos los Elementos de la Data\n",
    "\n",
    "Usamos BeautifulSoup para encontrar todos los elementos `a` con la clase `mainmenu`."
   ]
  },
  {
   "cell_type": "code",
   "execution_count": null,
   "metadata": {},
   "outputs": [
    {
     "data": {
      "text/plain": [
       "[<a class=\"mainmenu\" href=\"/\">Home</a>,\n",
       " <a class=\"mainmenu\" href=\"/legislation/\" onblur=\"HM_f_PopDown('elMenu1')\" onfocus=\"HM_f_PopUp('elMenu1',event)\" onmouseout=\"HM_f_PopDown('elMenu1')\" onmouseover=\"HM_f_PopUp('elMenu1',event)\">Legislation &amp; Laws</a>,\n",
       " <a class=\"mainmenu\" href=\"/senate/\" onblur=\"HM_f_PopDown('elMenu3')\" onfocus=\"HM_f_PopUp('elMenu3',event)\" onmouseout=\"HM_f_PopDown('elMenu3')\" onmouseover=\"HM_f_PopUp('elMenu3',event)\">Senate</a>,\n",
       " <a class=\"mainmenu\" href=\"/house/\" onblur=\"HM_f_PopDown('elMenu2')\" onfocus=\"HM_f_PopUp('elMenu2',event)\" onmouseout=\"HM_f_PopDown('elMenu2')\" onmouseover=\"HM_f_PopUp('elMenu2',event)\">House</a>,\n",
       " <a class=\"mainmenu\" href=\"/mylegislation/\" onblur=\"HM_f_PopDown('elMenu4')\" onfocus=\"HM_f_PopUp('elMenu4',event)\" onmouseout=\"HM_f_PopDown('elMenu4')\" onmouseover=\"HM_f_PopUp('elMenu4',event)\">My Legislation</a>,\n",
       " <a class=\"mainmenu\" href=\"/sitemap.asp\">Site Map</a>]"
      ]
     },
     "metadata": {},
     "output_type": "display_data"
    }
   ],
   "source": [
    "# YOUR CODE HERE\n",
    "soup.select(\"a.mainmenu\")"
   ]
  },
  {
   "cell_type": "markdown",
   "metadata": {},
   "source": [
    "## Paso 4: Se obtiene los Atributos y Texto\n",
    "\n",
    "Una vez que identificamos los elementos, queremos acceder a la información dentro de ellos. Generalmente, esto significa dos cosas: **Texto , Atributos**  \n",
    "\n",
    "Para obtener todo lo que tenemos que hacer es usar el miembro `text` de un objeto `tag`:"
   ]
  },
  {
   "cell_type": "code",
   "execution_count": null,
   "metadata": {},
   "outputs": [
    {
     "name": "stdout",
     "output_type": "stream",
     "text": [
      "<a class=\"sidemenu\" href=\"/house/default.asp\">  Members  </a>\n",
      "Class:  <class 'bs4.element.Tag'>\n"
     ]
    }
   ],
   "source": [
    "# Get all sidemenu links as a list\n",
    "side_menu_links = soup.select(\"a.sidemenu\")\n",
    "\n",
    "# Examine the first link\n",
    "first_link = side_menu_links[0]\n",
    "print(first_link)\n",
    "\n",
    "# What class is this variable?\n",
    "print('Class: ', type(first_link))"
   ]
  },
  {
   "cell_type": "markdown",
   "metadata": {},
   "source": [
    "¡Es una etiqueta de Beautiful Soup! Esto significa que tiene un miembro `text`:"
   ]
  },
  {
   "cell_type": "code",
   "execution_count": null,
   "metadata": {},
   "outputs": [
    {
     "name": "stdout",
     "output_type": "stream",
     "text": [
      "  Members  \n"
     ]
    }
   ],
   "source": [
    "print(first_link.text)"
   ]
  },
  {
   "cell_type": "markdown",
   "metadata": {},
   "source": [
    "A veces queremos obtener el valor de ciertos atributos. Esto es particularmente relevante para las etiquetas `a`, o enlaces, donde el atributo `href` nos indica a dónde lleva el enlace."
   ]
  },
  {
   "cell_type": "code",
   "execution_count": null,
   "metadata": {},
   "outputs": [
    {
     "name": "stdout",
     "output_type": "stream",
     "text": [
      "/house/default.asp\n"
     ]
    }
   ],
   "source": [
    "print(first_link['href'])"
   ]
  },
  {
   "cell_type": "code",
   "execution_count": null,
   "metadata": {},
   "outputs": [],
   "source": []
  },
  {
   "cell_type": "code",
   "execution_count": null,
   "metadata": {},
   "outputs": [],
   "source": []
  },
  {
   "cell_type": "code",
   "execution_count": null,
   "metadata": {},
   "outputs": [],
   "source": []
  },
  {
   "cell_type": "code",
   "execution_count": null,
   "metadata": {},
   "outputs": [],
   "source": []
  },
  {
   "cell_type": "markdown",
   "metadata": {},
   "source": [
    "Verificamos La cantidad de Senadores por partido"
   ]
  },
  {
   "cell_type": "code",
   "execution_count": null,
   "metadata": {},
   "outputs": [
    {
     "data": {
      "image/png": "[encoded data removed]",
      "text/plain": [
       "<Figure size 500x500 with 1 Axes>"
      ]
     },
     "metadata": {},
     "output_type": "display_data"
    }
   ],
   "source": [
    "# Conectar a PostgreSQL y obtener los datos\n",
    "def get_data_from_db():\n",
    "    conn = psycopg2.connect(\n",
    "        database=\"senadores_house_logs\",\n",
    "        user=\"postgres\",\n",
    "        password=\"postgres\",\n",
    "        host=\"localhost\",\n",
    "        port=\"5432\"\n",
    "    )\n",
    "    cursor = conn.cursor()\n",
    "    \n",
    "    # Obtener distribución de senadores/casa por partido\n",
    "    cursor.execute(\"SELECT party, COUNT(*) FROM structured_logs GROUP BY party;\")\n",
    "    party_data = cursor.fetchall()\n",
    "    \n",
    "    # Obtener distribución de senadores/casa por distrito\n",
    "    cursor.execute(\"SELECT distrit, COUNT(*) FROM structured_logs GROUP BY distrit;\")\n",
    "    district_data = cursor.fetchall()\n",
    "    \n",
    "    conn.close()\n",
    "    return party_data, district_data\n",
    "\n",
    "# Graficar distribución triangular\n",
    "def plot_triangular_chart(party_data):\n",
    "    labels, sizes = zip(*party_data)\n",
    "    angles = np.linspace(0, 2 * np.pi, len(labels), endpoint=False).tolist()\n",
    "    sizes += sizes[:1]\n",
    "    angles += angles[:1]\n",
    "    \n",
    "    fig, ax = plt.subplots(figsize=(5,5), subplot_kw={'projection': 'polar'})\n",
    "    ax.fill(angles, sizes, color='lightblue', alpha=0.6)\n",
    "    ax.set_xticks(angles[:-1])\n",
    "    ax.set_xticklabels(labels)\n",
    "    plt.title(\"Distribución Triangular de Senadores/Casa\")\n",
    "    plt.show()\n",
    "\n",
    "if __name__ == \"__main__\":\n",
    "    party_data, district_data = get_data_from_db()\n",
    "    plot_triangular_chart(party_data)"
   ]
  }
 ],
 "metadata": {
  "language_info": {
   "name": "python"
  }
 },
 "nbformat": 4,
 "nbformat_minor": 2
}
