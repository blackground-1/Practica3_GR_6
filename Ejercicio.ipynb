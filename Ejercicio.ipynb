{
 "cells": [
  {
   "cell_type": "markdown",
   "metadata": {},
   "source": [
    "## RETO \n",
    "# DESCARGAMOS EL ARCHIVO DEL REPOSITORIO KAGGEL QUE SE ENCUENTRA EN EL SIGUIENTE LINK \n",
    "[Bitcoin Transaction Fraud Detection](https://www.kaggle.com/code/nabanichowdhury/bitcoin-transaction-fraud-detection/input?select=BitcoinHeistData.csv)"
   ]
  },
  {
   "cell_type": "code",
   "execution_count": 1,
   "metadata": {},
   "outputs": [],
   "source": [
    "import pandas as pd"
   ]
  },
  {
   "cell_type": "markdown",
   "metadata": {},
   "source": [
    "# Cargando el dataset"
   ]
  },
  {
   "cell_type": "code",
   "execution_count": null,
   "metadata": {},
   "outputs": [],
   "source": [
    "\n",
    "df = pd.read_csv(\"/workspaces/Practica3_GR_6/BitcoinHeistData.csv\")"
   ]
  },
  {
   "cell_type": "code",
   "execution_count": 26,
   "metadata": {},
   "outputs": [
    {
     "data": {
      "text/html": [
       "<div>\n",
       "<style scoped>\n",
       "    .dataframe tbody tr th:only-of-type {\n",
       "        vertical-align: middle;\n",
       "    }\n",
       "\n",
       "    .dataframe tbody tr th {\n",
       "        vertical-align: top;\n",
       "    }\n",
       "\n",
       "    .dataframe thead th {\n",
       "        text-align: right;\n",
       "    }\n",
       "</style>\n",
       "<table border=\"1\" class=\"dataframe\">\n",
       "  <thead>\n",
       "    <tr style=\"text-align: right;\">\n",
       "      <th></th>\n",
       "      <th>address</th>\n",
       "      <th>year</th>\n",
       "      <th>day</th>\n",
       "      <th>length</th>\n",
       "      <th>weight</th>\n",
       "      <th>count</th>\n",
       "      <th>looped</th>\n",
       "      <th>neighbors</th>\n",
       "      <th>income</th>\n",
       "      <th>label</th>\n",
       "    </tr>\n",
       "  </thead>\n",
       "  <tbody>\n",
       "    <tr>\n",
       "      <th>0</th>\n",
       "      <td>111K8kZAEnJg245r2cM6y9zgJGHZtJPy6</td>\n",
       "      <td>2017</td>\n",
       "      <td>11</td>\n",
       "      <td>18</td>\n",
       "      <td>8.333333e-03</td>\n",
       "      <td>1</td>\n",
       "      <td>0</td>\n",
       "      <td>2</td>\n",
       "      <td>100050000.0</td>\n",
       "      <td>princetonCerber</td>\n",
       "    </tr>\n",
       "    <tr>\n",
       "      <th>1</th>\n",
       "      <td>1123pJv8jzeFQaCV4w644pzQJzVWay2zcA</td>\n",
       "      <td>2016</td>\n",
       "      <td>132</td>\n",
       "      <td>44</td>\n",
       "      <td>2.441406e-04</td>\n",
       "      <td>1</td>\n",
       "      <td>0</td>\n",
       "      <td>1</td>\n",
       "      <td>100000000.0</td>\n",
       "      <td>princetonLocky</td>\n",
       "    </tr>\n",
       "    <tr>\n",
       "      <th>2</th>\n",
       "      <td>112536im7hy6wtKbpH1qYDWtTyMRAcA2p7</td>\n",
       "      <td>2016</td>\n",
       "      <td>246</td>\n",
       "      <td>0</td>\n",
       "      <td>1.000000e+00</td>\n",
       "      <td>1</td>\n",
       "      <td>0</td>\n",
       "      <td>2</td>\n",
       "      <td>200000000.0</td>\n",
       "      <td>princetonCerber</td>\n",
       "    </tr>\n",
       "    <tr>\n",
       "      <th>3</th>\n",
       "      <td>1126eDRw2wqSkWosjTCre8cjjQW8sSeWH7</td>\n",
       "      <td>2016</td>\n",
       "      <td>322</td>\n",
       "      <td>72</td>\n",
       "      <td>3.906250e-03</td>\n",
       "      <td>1</td>\n",
       "      <td>0</td>\n",
       "      <td>2</td>\n",
       "      <td>71200000.0</td>\n",
       "      <td>princetonCerber</td>\n",
       "    </tr>\n",
       "    <tr>\n",
       "      <th>4</th>\n",
       "      <td>1129TSjKtx65E35GiUo4AYVeyo48twbrGX</td>\n",
       "      <td>2016</td>\n",
       "      <td>238</td>\n",
       "      <td>144</td>\n",
       "      <td>7.284841e-02</td>\n",
       "      <td>456</td>\n",
       "      <td>0</td>\n",
       "      <td>1</td>\n",
       "      <td>200000000.0</td>\n",
       "      <td>princetonLocky</td>\n",
       "    </tr>\n",
       "    <tr>\n",
       "      <th>5</th>\n",
       "      <td>112AmFATxzhuSpvtz1hfpa3Zrw3BG276pc</td>\n",
       "      <td>2016</td>\n",
       "      <td>96</td>\n",
       "      <td>144</td>\n",
       "      <td>8.461400e-02</td>\n",
       "      <td>2821</td>\n",
       "      <td>0</td>\n",
       "      <td>1</td>\n",
       "      <td>50000000.0</td>\n",
       "      <td>princetonLocky</td>\n",
       "    </tr>\n",
       "    <tr>\n",
       "      <th>6</th>\n",
       "      <td>112E91jxS2qrQY1z78LPWUWrLVFGqbYPQ1</td>\n",
       "      <td>2016</td>\n",
       "      <td>225</td>\n",
       "      <td>142</td>\n",
       "      <td>2.088519e-03</td>\n",
       "      <td>881</td>\n",
       "      <td>0</td>\n",
       "      <td>2</td>\n",
       "      <td>100000000.0</td>\n",
       "      <td>princetonCerber</td>\n",
       "    </tr>\n",
       "    <tr>\n",
       "      <th>7</th>\n",
       "      <td>112eFykaD53KEkKeYW9KW8eWebZYSbt2f5</td>\n",
       "      <td>2016</td>\n",
       "      <td>324</td>\n",
       "      <td>78</td>\n",
       "      <td>3.906250e-03</td>\n",
       "      <td>1</td>\n",
       "      <td>0</td>\n",
       "      <td>2</td>\n",
       "      <td>100990000.0</td>\n",
       "      <td>princetonCerber</td>\n",
       "    </tr>\n",
       "    <tr>\n",
       "      <th>8</th>\n",
       "      <td>112FTiRdJjMrNgEtd4fvdoq3TC33Ah5Dep</td>\n",
       "      <td>2016</td>\n",
       "      <td>298</td>\n",
       "      <td>144</td>\n",
       "      <td>2.302828e+00</td>\n",
       "      <td>4220</td>\n",
       "      <td>0</td>\n",
       "      <td>2</td>\n",
       "      <td>80000000.0</td>\n",
       "      <td>princetonCerber</td>\n",
       "    </tr>\n",
       "    <tr>\n",
       "      <th>9</th>\n",
       "      <td>112GocBgFSnaote6krx828qaockFraD8mp</td>\n",
       "      <td>2016</td>\n",
       "      <td>62</td>\n",
       "      <td>112</td>\n",
       "      <td>3.725290e-09</td>\n",
       "      <td>1</td>\n",
       "      <td>0</td>\n",
       "      <td>1</td>\n",
       "      <td>50000000.0</td>\n",
       "      <td>princetonLocky</td>\n",
       "    </tr>\n",
       "  </tbody>\n",
       "</table>\n",
       "</div>"
      ],
      "text/plain": [
       "                              address  year  day  length        weight  count  \\\n",
       "0   111K8kZAEnJg245r2cM6y9zgJGHZtJPy6  2017   11      18  8.333333e-03      1   \n",
       "1  1123pJv8jzeFQaCV4w644pzQJzVWay2zcA  2016  132      44  2.441406e-04      1   \n",
       "2  112536im7hy6wtKbpH1qYDWtTyMRAcA2p7  2016  246       0  1.000000e+00      1   \n",
       "3  1126eDRw2wqSkWosjTCre8cjjQW8sSeWH7  2016  322      72  3.906250e-03      1   \n",
       "4  1129TSjKtx65E35GiUo4AYVeyo48twbrGX  2016  238     144  7.284841e-02    456   \n",
       "5  112AmFATxzhuSpvtz1hfpa3Zrw3BG276pc  2016   96     144  8.461400e-02   2821   \n",
       "6  112E91jxS2qrQY1z78LPWUWrLVFGqbYPQ1  2016  225     142  2.088519e-03    881   \n",
       "7  112eFykaD53KEkKeYW9KW8eWebZYSbt2f5  2016  324      78  3.906250e-03      1   \n",
       "8  112FTiRdJjMrNgEtd4fvdoq3TC33Ah5Dep  2016  298     144  2.302828e+00   4220   \n",
       "9  112GocBgFSnaote6krx828qaockFraD8mp  2016   62     112  3.725290e-09      1   \n",
       "\n",
       "   looped  neighbors       income            label  \n",
       "0       0          2  100050000.0  princetonCerber  \n",
       "1       0          1  100000000.0   princetonLocky  \n",
       "2       0          2  200000000.0  princetonCerber  \n",
       "3       0          2   71200000.0  princetonCerber  \n",
       "4       0          1  200000000.0   princetonLocky  \n",
       "5       0          1   50000000.0   princetonLocky  \n",
       "6       0          2  100000000.0  princetonCerber  \n",
       "7       0          2  100990000.0  princetonCerber  \n",
       "8       0          2   80000000.0  princetonCerber  \n",
       "9       0          1   50000000.0   princetonLocky  "
      ]
     },
     "execution_count": 26,
     "metadata": {},
     "output_type": "execute_result"
    }
   ],
   "source": [
    "df.head(10)"
   ]
  },
  {
   "cell_type": "markdown",
   "metadata": {},
   "source": [
    "# VERIFICAMOS SI HAY NULOS EN EL DATA SET DE KAGGEL"
   ]
  },
  {
   "cell_type": "code",
   "execution_count": 27,
   "metadata": {},
   "outputs": [
    {
     "data": {
      "text/plain": [
       "address      0\n",
       "year         0\n",
       "day          0\n",
       "length       0\n",
       "weight       0\n",
       "count        0\n",
       "looped       0\n",
       "neighbors    0\n",
       "income       0\n",
       "label        0\n",
       "dtype: int64"
      ]
     },
     "execution_count": 27,
     "metadata": {},
     "output_type": "execute_result"
    }
   ],
   "source": [
    "df.isnull().sum()"
   ]
  },
  {
   "cell_type": "code",
   "execution_count": 28,
   "metadata": {},
   "outputs": [
    {
     "name": "stdout",
     "output_type": "stream",
     "text": [
      "(126, 10)\n"
     ]
    }
   ],
   "source": [
    "# Dimensión del archivo\n",
    "print(df.shape)"
   ]
  },
  {
   "cell_type": "markdown",
   "metadata": {},
   "source": [
    "LEVANTAMOS UNA BASE DE DATOS POSTGRESS DENTRO DE UN DV CONTAINER "
   ]
  },
  {
   "cell_type": "code",
   "execution_count": 6,
   "metadata": {},
   "outputs": [
    {
     "name": "stdout",
     "output_type": "stream",
     "text": [
      "                              address  year  day  length    weight  count  \\\n",
      "0   111K8kZAEnJg245r2cM6y9zgJGHZtJPy6  2017   11      18  0.008333      1   \n",
      "1  1123pJv8jzeFQaCV4w644pzQJzVWay2zcA  2016  132      44  0.000244      1   \n",
      "2  112536im7hy6wtKbpH1qYDWtTyMRAcA2p7  2016  246       0  1.000000      1   \n",
      "3  1126eDRw2wqSkWosjTCre8cjjQW8sSeWH7  2016  322      72  0.003906      1   \n",
      "4  1129TSjKtx65E35GiUo4AYVeyo48twbrGX  2016  238     144  0.072848    456   \n",
      "\n",
      "   looped  neighbors       income            label  \n",
      "0       0          2  100050000.0  princetonCerber  \n",
      "1       0          1  100000000.0   princetonLocky  \n",
      "2       0          2  200000000.0  princetonCerber  \n",
      "3       0          2   71200000.0  princetonCerber  \n",
      "4       0          1  200000000.0   princetonLocky  \n",
      "La base de datos 'postgres_kevin' ya existe.\n",
      "Tabla 'structured_logs' creada correctamente.\n",
      "Inserting 126 records into the database.\n",
      "Datos estructurados insertados correctamente.\n"
     ]
    }
   ],
   "source": [
    "import psycopg2\n",
    "import pandas as pd  # Para manejar el DataFrame\n",
    "\n",
    "# Cargar el archivo CSV\n",
    "df = pd.read_csv(\"/workspaces/Practica3_GR_6/BitcoinHeistData.csv\")\n",
    "print(df.head())  # Verifica que el DataFrame tiene los datos correctos\n",
    "\n",
    "# Paso 1: Crear la base de datos y la tabla desde Python\n",
    "def create_database_and_table():\n",
    "    try:\n",
    "        # Conexión al servidor PostgreSQL (sin especificar una base de datos)\n",
    "        conn = psycopg2.connect(\n",
    "            user=\"postgres\",  # Usuario predeterminado\n",
    "            password=\"postgres\",\n",
    "            host=\"localhost\",\n",
    "            port=\"5432\"\n",
    "        )\n",
    "        conn.autocommit = True  # Necesario para crear una base de datos\n",
    "        cursor = conn.cursor()\n",
    "\n",
    "        # Crear la base de datos \"postgres_kevin\" si no existe\n",
    "        cursor.execute(\"SELECT datname FROM pg_database WHERE datname='postgres_kevin';\")\n",
    "        if not cursor.fetchone():\n",
    "            cursor.execute(\"CREATE DATABASE postgres_kevin;\")\n",
    "            print(\"Base de datos 'postgres_kevin' creada correctamente.\")\n",
    "        else:\n",
    "            print(\"La base de datos 'postgres_kevin' ya existe.\")\n",
    "\n",
    "        # Cerrar la conexión inicial\n",
    "        cursor.close()\n",
    "        conn.close()\n",
    "\n",
    "        # Conectar a la base de datos \"postgres_kevin\"\n",
    "        conn = psycopg2.connect(\n",
    "            database=\"postgres_kevin\",  # Usar el nombre de la base de datos correcta\n",
    "            user=\"postgres\",\n",
    "            password=\"postgres\",\n",
    "            host=\"localhost\",\n",
    "            port=\"5432\"\n",
    "        )\n",
    "        cursor = conn.cursor()\n",
    "\n",
    "        cursor.execute(\"DROP TABLE IF EXISTS structured_logs;\")\n",
    "\n",
    "        # Crear la tabla \"structured_logs\" con las columnas proporcionadas\n",
    "        cursor.execute(\"\"\"\n",
    "        CREATE TABLE IF NOT EXISTS structured_logs (\n",
    "            id SERIAL PRIMARY KEY,\n",
    "            address VARCHAR(255),\n",
    "            year INTEGER,\n",
    "            day INTEGER,\n",
    "            length INTEGER,\n",
    "            weight INTEGER,\n",
    "            count INTEGER,\n",
    "            looped INTEGER,\n",
    "            neighbors INTEGER,\n",
    "            income INTEGER,\n",
    "            label VARCHAR(100)\n",
    "        );\n",
    "        \"\"\")\n",
    "        print(\"Tabla 'structured_logs' creada correctamente.\")\n",
    "\n",
    "        # Confirmar cambios y cerrar la conexión\n",
    "        conn.commit()\n",
    "        cursor.close()\n",
    "        conn.close()\n",
    "\n",
    "    except Exception as e:\n",
    "        print(f\"Error al crear la base de datos o la tabla: {e}\")\n",
    "\n",
    "# Paso 2: Insertar datos estructurados en la tabla\n",
    "def insert_structured_logs(df):\n",
    "    try:\n",
    "        # Conectar a la base de datos\n",
    "        conn = psycopg2.connect(\n",
    "            database=\"postgres_kevin\",  # Usar la base de datos correcta\n",
    "            user=\"postgres\",\n",
    "            password=\"postgres\",\n",
    "            host=\"localhost\",\n",
    "            port=\"5432\"\n",
    "        )\n",
    "        cursor = conn.cursor()\n",
    "\n",
    "        # Verificar cuántos registros se van a insertar\n",
    "        print(f\"Inserting {len(df)} records into the database.\")\n",
    "\n",
    "        # Insertar los registros en la tabla\n",
    "        cursor.executemany(\"\"\"\n",
    "            INSERT INTO structured_logs (address, year, day, length, weight, count, looped, neighbors, income, label)\n",
    "            VALUES (%s, %s, %s, %s, %s, %s, %s, %s, %s, %s);\n",
    "        \"\"\", df[[\"address\", \"year\", \"day\", \"length\", \"weight\", \"count\", \"looped\", \"neighbors\", \"income\", \"label\"]].values.tolist())\n",
    "\n",
    "        # Confirmar cambios y cerrar la conexión\n",
    "        conn.commit()\n",
    "        print(\"Datos estructurados insertados correctamente.\")\n",
    "        cursor.close()\n",
    "        conn.close()\n",
    "\n",
    "    except Exception as e:\n",
    "        print(f\"Error al insertar datos estructurados: {e}\")\n",
    "\n",
    "if __name__ == \"__main__\":\n",
    "    create_database_and_table()  # Crear base de datos y tabla\n",
    "\n",
    "    # Asegúrate de que el archivo CSV tiene las columnas correctas antes de insertar\n",
    "    insert_structured_logs(df)  # Pasa el dataframe df a la función\n"
   ]
  },
  {
   "cell_type": "code",
   "execution_count": 8,
   "metadata": {},
   "outputs": [
    {
     "name": "stdout",
     "output_type": "stream",
     "text": [
      "(1, '111K8kZAEnJg245r2cM6y9zgJGHZtJPy6', 2017, 11, 18, 0, 1, 0, 2, 100050000, 'princetonCerber')\n",
      "(2, '1123pJv8jzeFQaCV4w644pzQJzVWay2zcA', 2016, 132, 44, 0, 1, 0, 1, 100000000, 'princetonLocky')\n",
      "(3, '112536im7hy6wtKbpH1qYDWtTyMRAcA2p7', 2016, 246, 0, 1, 1, 0, 2, 200000000, 'princetonCerber')\n",
      "(4, '1126eDRw2wqSkWosjTCre8cjjQW8sSeWH7', 2016, 322, 72, 0, 1, 0, 2, 71200000, 'princetonCerber')\n",
      "(5, '1129TSjKtx65E35GiUo4AYVeyo48twbrGX', 2016, 238, 144, 0, 456, 0, 1, 200000000, 'princetonLocky')\n",
      "(6, '112AmFATxzhuSpvtz1hfpa3Zrw3BG276pc', 2016, 96, 144, 0, 2821, 0, 1, 50000000, 'princetonLocky')\n",
      "(7, '112E91jxS2qrQY1z78LPWUWrLVFGqbYPQ1', 2016, 225, 142, 0, 881, 0, 2, 100000000, 'princetonCerber')\n",
      "(8, '112eFykaD53KEkKeYW9KW8eWebZYSbt2f5', 2016, 324, 78, 0, 1, 0, 2, 100990000, 'princetonCerber')\n",
      "(9, '112FTiRdJjMrNgEtd4fvdoq3TC33Ah5Dep', 2016, 298, 144, 2, 4220, 0, 2, 80000000, 'princetonCerber')\n",
      "(10, '112GocBgFSnaote6krx828qaockFraD8mp', 2016, 62, 112, 0, 1, 0, 1, 50000000, 'princetonLocky')\n"
     ]
    }
   ],
   "source": [
    "import psycopg2\n",
    "\n",
    "# Conectar a la base de datos\n",
    "conn = psycopg2.connect(\n",
    "    database=\"postgres_kevin\",  # Usar la base de datos correcta\n",
    "    user=\"postgres\",\n",
    "    password=\"postgres\",\n",
    "    host=\"localhost\",\n",
    "    port=\"5432\"\n",
    ")\n",
    "cursor = conn.cursor()\n",
    "\n",
    "# Ejecutar la consulta SQL para obtener los primeros 10 registros\n",
    "cursor.execute(\"SELECT * FROM structured_logs LIMIT 10;\")\n",
    "records = cursor.fetchall()\n",
    "\n",
    "# Mostrar los registros obtenidos\n",
    "for record in records:\n",
    "    print(record)\n",
    "\n",
    "# Cerrar la conexión\n",
    "cursor.close()\n",
    "conn.close()"
   ]
  },
  {
   "cell_type": "code",
   "execution_count": null,
   "metadata": {},
   "outputs": [],
   "source": [
    "import matplotlib.pyplot as plt\n",
    "import seaborn as sns"
   ]
  },
  {
   "cell_type": "markdown",
   "metadata": {},
   "source": [
    "### 1. Gráfico de barras para el número de muestras por tipo de malware"
   ]
  },
  {
   "cell_type": "code",
   "execution_count": 3,
   "metadata": {},
   "outputs": [
    {
     "name": "stdout",
     "output_type": "stream",
     "text": [
      "label\n",
      "princetoncerber    6\n",
      "princetonlocky     4\n",
      "Name: count, dtype: int64\n"
     ]
    },
    {
     "name": "stderr",
     "output_type": "stream",
     "text": [
      "/tmp/ipykernel_66972/355970715.py:20: UserWarning: pandas only supports SQLAlchemy connectable (engine/connection) or database string URI or sqlite3 DBAPI2 connection. Other DBAPI2 objects are not tested. Please consider using SQLAlchemy.\n",
      "  df = pd.read_sql_query(query, conn)\n",
      "/tmp/ipykernel_66972/355970715.py:49: FutureWarning: \n",
      "\n",
      "Passing `palette` without assigning `hue` is deprecated and will be removed in v0.14.0. Assign the `x` variable to `hue` and set `legend=False` for the same effect.\n",
      "\n",
      "  sns.countplot(x=\"label\", data=df_filtered, palette=\"coolwarm\")\n"
     ]
    },
    {
     "data": {
      "image/png": "[encoded data removed]",
      "text/plain": [
       "<Figure size 800x600 with 1 Axes>"
      ]
     },
     "metadata": {},
     "output_type": "display_data"
    }
   ],
   "source": [
    "import psycopg2\n",
    "import pandas as pd\n",
    "import matplotlib.pyplot as plt\n",
    "import seaborn as sns\n",
    "\n",
    "# Conectar a la base de datos\n",
    "def fetch_data_from_db():\n",
    "    try:\n",
    "        # Conectar a la base de datos\n",
    "        conn = psycopg2.connect(\n",
    "            database=\"postgres_kevin\",  # Usar la base de datos correcta\n",
    "            user=\"postgres\",\n",
    "            password=\"postgres\",\n",
    "            host=\"localhost\",\n",
    "            port=\"5432\"\n",
    "        )\n",
    "        \n",
    "        # Hacer una consulta SQL para obtener los datos\n",
    "        query = \"SELECT * FROM structured_logs;\"\n",
    "        df = pd.read_sql_query(query, conn)\n",
    "        \n",
    "        # Cerrar la conexión a la base de datos\n",
    "        conn.close()\n",
    "        \n",
    "        return df\n",
    "\n",
    "    except Exception as e:\n",
    "        print(f\"Error al obtener datos de la base de datos: {e}\")\n",
    "        return None\n",
    "\n",
    "# Paso 1: Obtener los datos de la base de datos\n",
    "df1 = fetch_data_from_db()\n",
    "\n",
    "if df1 is not None:\n",
    "    # Paso 2: Eliminar espacios en blanco antes y después de los nombres de malware\n",
    "    df1['label'] = df1['label'].str.strip().str.lower()\n",
    "\n",
    "    # Paso 3: Seleccionar solo las primeras 10 filas\n",
    "    df_first_10 = df1.head(10)\n",
    "\n",
    "    # Paso 4: Filtrar solo los dos tipos de malware relevantes: 'princetoncerber' y 'princetonlocky' en las primeras 10 muestras\n",
    "    df_filtered = df_first_10[df_first_10['label'].isin(['princetoncerber', 'princetonlocky'])]\n",
    "\n",
    "    # Paso 5: Verificar cuántas muestras hay de cada tipo de malware después del filtrado\n",
    "    print(df_filtered['label'].value_counts())\n",
    "\n",
    "    # Paso 6: Gráfico de barras para el número de muestras por tipo de malware\n",
    "    plt.figure(figsize=(8, 6))\n",
    "    sns.countplot(x=\"label\", data=df_filtered, palette=\"coolwarm\")\n",
    "    plt.title(\"Número de Muestras por Tipo de Malware\", fontsize=12, fontweight=\"bold\")\n",
    "    plt.xlabel(\"Tipo de Malware\")\n",
    "    plt.ylabel(\"Número de Muestras\")\n",
    "    plt.xticks(rotation=45)  # Para mejorar la visualización de las etiquetas\n",
    "    plt.tight_layout()\n",
    "    plt.show()\n",
    "else:\n",
    "    print(\"No se pudo obtener información de la base de datos.\")\n"
   ]
  },
  {
   "cell_type": "markdown",
   "metadata": {},
   "source": [
    "### 2. Gráfico de distribución: Días en los que se detectaron los eventos"
   ]
  },
  {
   "cell_type": "code",
   "execution_count": 7,
   "metadata": {},
   "outputs": [
    {
     "data": {
      "image/png": "[encoded data removed]",
      "text/plain": [
       "<Figure size 700x500 with 1 Axes>"
      ]
     },
     "metadata": {},
     "output_type": "display_data"
    }
   ],
   "source": [
    "\n",
    "# Seleccionar solo las primeras 10 filas\n",
    "df_first_10 = df1.head(10)\n",
    "\n",
    "# 2. Gráfico de distribución: Días en los que se detectaron los eventos\n",
    "plt.figure(figsize=(7, 5))\n",
    "sns.histplot(df_first_10[\"day\"], bins=10, kde=True, color=\"blue\")\n",
    "plt.title(\"Distribución de Días de Detección\", fontsize=12, fontweight=\"bold\")\n",
    "plt.xlabel(\"Día del Año\")\n",
    "plt.ylabel(\"Frecuencia\")\n",
    "plt.tight_layout()\n",
    "plt.show()"
   ]
  },
  {
   "cell_type": "markdown",
   "metadata": {},
   "source": [
    "### 3. Gráfico de dispersión: Relación entre la cantidad de vecinos y los ingresos"
   ]
  },
  {
   "cell_type": "code",
   "execution_count": 6,
   "metadata": {},
   "outputs": [
    {
     "data": {
      "image/png": "[encoded data removed]",
      "text/plain": [
       "<Figure size 700x500 with 1 Axes>"
      ]
     },
     "metadata": {},
     "output_type": "display_data"
    }
   ],
   "source": [
    "# Seleccionar solo las primeras 10 filas\n",
    "df_first_10 = df1.head(10)\n",
    "\n",
    "# 3. Gráfico de dispersión: Relación entre la cantidad de vecinos y los ingresos\n",
    "plt.figure(figsize=(7, 5))\n",
    "sns.scatterplot(x=\"neighbors\", y=\"income\", hue=\"label\", data=df_first_10, palette=\"viridis\", s=100)\n",
    "plt.title(\"Relación entre Vecinos y Ingresos\", fontsize=12, fontweight=\"bold\")\n",
    "plt.xlabel(\"Número de Vecinos\")\n",
    "plt.ylabel(\"Ingresos\")\n",
    "plt.tight_layout()\n",
    "plt.show()"
   ]
  },
  {
   "cell_type": "markdown",
   "metadata": {},
   "source": [
    "### 4. Boxplot: Distribución del peso del malware por etiqueta"
   ]
  },
  {
   "cell_type": "code",
   "execution_count": 5,
   "metadata": {},
   "outputs": [
    {
     "name": "stderr",
     "output_type": "stream",
     "text": [
      "/tmp/ipykernel_66972/4219976050.py:6: FutureWarning: \n",
      "\n",
      "Passing `palette` without assigning `hue` is deprecated and will be removed in v0.14.0. Assign the `x` variable to `hue` and set `legend=False` for the same effect.\n",
      "\n",
      "  sns.boxplot(x=\"label\", y=\"weight\", data=df_first_10, palette=\"muted\")\n"
     ]
    },
    {
     "data": {
      "image/png": "[encoded data removed]",
      "text/plain": [
       "<Figure size 700x500 with 1 Axes>"
      ]
     },
     "metadata": {},
     "output_type": "display_data"
    }
   ],
   "source": [
    "\n",
    "# Seleccionar solo las primeras 10 filas\n",
    "df_first_10 = df1.head(10)\n",
    "\n",
    "# 4. Boxplot: Distribución del peso del malware por etiqueta\n",
    "plt.figure(figsize=(7, 5))\n",
    "sns.boxplot(x=\"label\", y=\"weight\", data=df_first_10, palette=\"muted\")\n",
    "plt.title(\"Distribución del Peso del Malware por Tipo\", fontsize=12, fontweight=\"bold\")\n",
    "plt.xlabel(\"Tipo de Malware\")\n",
    "plt.ylabel(\"Peso\")\n",
    "plt.tight_layout()\n",
    "plt.show()"
   ]
  }
 ],
 "metadata": {
  "kernelspec": {
   "display_name": "base",
   "language": "python",
   "name": "python3"
  },
  "language_info": {
   "codemirror_mode": {
    "name": "ipython",
    "version": 3
   },
   "file_extension": ".py",
   "mimetype": "text/x-python",
   "name": "python",
   "nbconvert_exporter": "python",
   "pygments_lexer": "ipython3",
   "version": "3.12.7"
  }
 },
 "nbformat": 4,
 "nbformat_minor": 2
}
