{
 "cells": [
  {
   "cell_type": "markdown",
   "metadata": {},
   "source": [
    "## 🎬 **Demostración:** **Creamos la Base de Datos para Ingresar nuestra DATA**"
   ]
  },
  {
   "cell_type": "markdown",
   "metadata": {},
   "source": [
    "Para crear la base de datos primero preparamos su entorno, instalamos el DBCODE, el cual nos va a pedir que se intregre a nuestro entorno las librerías que se necesitan, creamos una nueva base de datos la misma que llevará el nombre de **senadores_house_logs**, creamos su tabala con 5 campos para poder ingresar la data en ella y poder analizarla."
   ]
  },
  {
   "cell_type": "code",
   "execution_count": null,
   "metadata": {
    "vscode": {
     "languageId": "plaintext"
    }
   },
   "outputs": [],
   "source": [
    "import psycopg2\n",
    "import json\n",
    "from datetime import datetime\n",
    "\n",
    "# Paso 1: Crear la base de datos y la tabla desde Python\n",
    "def create_database_and_table():\n",
    "    try:\n",
    "        # Conexión al servidor PostgreSQL (sin especificar una base de datos)\n",
    "        conn = psycopg2.connect(\n",
    "            user=\"postgres\", # Usuario predeterminado\n",
    "            password=\"postgres\",\n",
    "            host=\"localhost\",\n",
    "            port=\"5432\"\n",
    "        )\n",
    "        conn.autocommit = True # Necesario para crear una base de datos\n",
    "        cursor = conn.cursor()\n",
    "\n",
    "        # Crear la base de datos \"SENADORES_HOUSE_logs\" si no existe\n",
    "        cursor.execute(\"SELECT datname FROM pg_database WHERE datname='senadores_house_logs';\")\n",
    "        if not cursor.fetchone():\n",
    "            cursor.execute(\"CREATE DATABASE senadores_house_logs;\")\n",
    "            print(\"Base de datos 'senadores_house_logs' creada correctamente.\")\n",
    "        else:\n",
    "            print(\"La base de datos 'senadores_house_logs' ya existe.\")\n",
    "\n",
    "        # Cerrar la conexión inicial\n",
    "        cursor.close()\n",
    "        conn.close()\n",
    "\n",
    "        # Conectar a la nueva base de datos\n",
    "        conn = psycopg2.connect(\n",
    "        database=\"senadores_house_logs\",\n",
    "        user=\"postgres\",\n",
    "        password=\"postgres\",\n",
    "        host=\"localhost\",\n",
    "        port=\"5432\"\n",
    "        )\n",
    "        cursor = conn.cursor()\n",
    "\n",
    "        cursor.execute(\"DROP TABLE IF EXISTS structured_logs;\")\n",
    "\n",
    "        # Crear la tabla \"structured_logs\" si no existe\n",
    "        cursor.execute(\"\"\"\n",
    "        CREATE TABLE IF NOT EXISTS structured_logs (\n",
    "        id SERIAL PRIMARY KEY,\n",
    "        name VARCHAR(100),\n",
    "        committees VARCHAR(250),\n",
    "        distrit INTEGER,\n",
    "        party TEXT\n",
    "        );\n",
    "        \"\"\")\n",
    "        print(\"Tabla 'structured_logs' creada correctamente.\")\n",
    "\n",
    "        # Confirmar cambios y cerrar la conexión\n",
    "        conn.commit()\n",
    "        cursor.close()\n",
    "        conn.close()\n",
    "\n",
    "    except Exception as e:\n",
    "        print(f\"Error al crear la base de datos o la tabla: {e}\")\n",
    "\n",
    "# Paso 2: Insertar datos estructurados en la tabla\n",
    "def insert_structured_logs():\n",
    "    try:\n",
    "        # Conectar a la base de datos\n",
    "        conn = psycopg2.connect(\n",
    "        database=\"senadores_house_logs\",\n",
    "        user=\"postgres\",\n",
    "        password=\"postgres\",\n",
    "        host=\"localhost\",\n",
    "        port=\"5432\"\n",
    "        )\n",
    "        cursor = conn.cursor()        \n",
    "\n",
    "        # Insertar registros en la tabla de acuerdo a la data extraída\n",
    "        cursor.executemany(\"\"\"\n",
    "            INSERT INTO structured_logs (name, committees, distrit, party)\n",
    "            VALUES (%s, %s, %s, %s);\n",
    "        \"\"\", members[:total_mimbros])\n",
    "\n",
    "        # Confirmar cambios y cerrar la conexión\n",
    "        conn.commit()\n",
    "        print(\"Datos estructurados insertados correctamente.\")\n",
    "        cursor.close()\n",
    "        conn.close()\n",
    "\n",
    "    except Exception as e:\n",
    "        print(f\"Error al insertar datos estructurados: {e}\")\n",
    "\n",
    "if __name__ == \"__main__\":\n",
    "    create_database_and_table() # Crear base de datos y tabla\n",
    "    insert_structured_logs() # Insertar datos estructurados\n",
    "    # save_unstructured_logs() # Guardar logs no estructurados"
   ]
  },
  {
   "cell_type": "markdown",
   "metadata": {},
   "source": [
    "Como se observa la Data ingresada a nuestra nueva base de Datos es de forma automática esto va a depender de la cantidad de información que tenga la página a ser analizada."
   ]
  },
  {
   "cell_type": "markdown",
   "metadata": {},
   "source": [
    "#### De preferencia se debe de verificar que la Data extraída y a ser analizada no sea muy pesada\n",
    "\n",
    "Echemos un vistazo a lo que tenemos en  `members`. Se corrobora que la Data ingresada es la mimsa del portal en análisis"
   ]
  },
  {
   "cell_type": "code",
   "execution_count": null,
   "metadata": {
    "vscode": {
     "languageId": "plaintext"
    }
   },
   "outputs": [],
   "source": [
    "print(members[:5])"
   ]
  },
  {
   "cell_type": "markdown",
   "metadata": {},
   "source": [
    "### **Obtenemos la Data de la BASE para analizarla Gráficamente**\n",
    "Obtenemos la Data de la nueva base **senadores_house_logs**\n",
    "Se observa el % de Senadores Demócratas Vs Republicanos"
   ]
  },
  {
   "cell_type": "code",
   "execution_count": null,
   "metadata": {
    "vscode": {
     "languageId": "plaintext"
    }
   },
   "outputs": [],
   "source": [
    "import matplotlib.pyplot as plt\n",
    "import seaborn as sns\n",
    "import numpy as np\n",
    "import pandas as pd\n",
    "\n",
    "# Conectar a PostgreSQL y obtener los datos\n",
    "def get_data_from_db():\n",
    "    conn = psycopg2.connect(\n",
    "        database=\"senadores_house_logs\",\n",
    "        user=\"postgres\",\n",
    "        password=\"postgres\",\n",
    "        host=\"localhost\",\n",
    "        port=\"5432\"\n",
    "    )\n",
    "    cursor = conn.cursor()\n",
    "    \n",
    "    # Obtener distribución de senadores/casa por partido\n",
    "    cursor.execute(\"SELECT party, COUNT(*) FROM structured_logs GROUP BY party;\")\n",
    "    party_data = cursor.fetchall()\n",
    "    \n",
    "    # Obtener distribución de senadores/casa por distrito\n",
    "    cursor.execute(\"SELECT distrit, COUNT(*) FROM structured_logs GROUP BY distrit;\")\n",
    "    district_data = cursor.fetchall()\n",
    "    \n",
    "    conn.close()\n",
    "    return party_data, district_data\n",
    "\n",
    "# Graficar distribución de senadores/casa por partido\n",
    "def plot_pie_chart(party_data):\n",
    "    labels, sizes = zip(*party_data)\n",
    "    plt.figure(figsize=(5,5))\n",
    "    plt.pie(sizes, labels=labels, autopct='%1.1f%%', startangle=140, colors=sns.color_palette(\"pastel\"))\n",
    "    plt.title(\"Distribución de Senadores/Casa por Partido\")\n",
    "    plt.show()\n",
    "if __name__ == \"__main__\":\n",
    "    party_data, district_data = get_data_from_db()\n",
    "    plot_pie_chart(party_data)"
   ]
  }
 ],
 "metadata": {
  "language_info": {
   "name": "python"
  }
 },
 "nbformat": 4,
 "nbformat_minor": 2
}
